{
 "cells": [
  {
   "cell_type": "code",
   "execution_count": 1,
   "id": "70ed0b7b-85e1-4488-b156-eceec1631bb1",
   "metadata": {},
   "outputs": [
    {
     "name": "stdout",
     "output_type": "stream",
     "text": [
      "Welcome to the Investment Opportunity Analyzer!\n"
     ]
    },
    {
     "name": "stdin",
     "output_type": "stream",
     "text": [
      "Please enter the number of investment opportunities:  4\n",
      "Please enter the minimum acceptable profit margin (as a percentage):  D\n"
     ]
    },
    {
     "ename": "ValueError",
     "evalue": "could not convert string to float: 'D'",
     "output_type": "error",
     "traceback": [
      "\u001b[0;31m---------------------------------------------------------------------------\u001b[0m",
      "\u001b[0;31mValueError\u001b[0m                                Traceback (most recent call last)",
      "Cell \u001b[0;32mIn[1], line 8\u001b[0m\n\u001b[1;32m      6\u001b[0m \u001b[38;5;66;03m# Input validation using a while loop\u001b[39;00m\n\u001b[1;32m      7\u001b[0m num_opportunities \u001b[38;5;241m=\u001b[39m \u001b[38;5;28mint\u001b[39m(\u001b[38;5;28minput\u001b[39m(\u001b[38;5;124m\"\u001b[39m\u001b[38;5;124mPlease enter the number of investment opportunities: \u001b[39m\u001b[38;5;124m\"\u001b[39m))\n\u001b[0;32m----> 8\u001b[0m profit_margin \u001b[38;5;241m=\u001b[39m \u001b[38;5;28;43mfloat\u001b[39;49m\u001b[43m(\u001b[49m\u001b[38;5;28;43minput\u001b[39;49m\u001b[43m(\u001b[49m\u001b[38;5;124;43m\"\u001b[39;49m\u001b[38;5;124;43mPlease enter the minimum acceptable profit margin (as a percentage): \u001b[39;49m\u001b[38;5;124;43m\"\u001b[39;49m\u001b[43m)\u001b[49m\u001b[43m)\u001b[49m\n\u001b[1;32m     10\u001b[0m \u001b[38;5;66;03m# Initialize a list to store profitable opportunities\u001b[39;00m\n\u001b[1;32m     11\u001b[0m profitable_opportunities \u001b[38;5;241m=\u001b[39m []\n",
      "\u001b[0;31mValueError\u001b[0m: could not convert string to float: 'D'"
     ]
    }
   ],
   "source": [
    "## Business Challenge: Identify Profitable Investment Opportunities\n",
    "\n",
    "# Welcome message\n",
    "print(\"Welcome to the Investment Opportunity Analyzer!\")\n",
    "\n",
    "# Input validation using a while loop\n",
    "num_opportunities = int(input(\"Please enter the number of investment opportunities: \"))\n",
    "profit_margin = float(input(\"Please enter the minimum acceptable profit margin (as a percentage): \"))\n",
    "\n",
    "# Initialize a list to store profitable opportunities\n",
    "profitable_opportunities = []\n",
    "\n",
    "# Gather details for each investment opportunity\n",
    "for i in range(1, num_opportunities + 1):\n",
    "    print(f\"\\nEnter details for investment opportunity {i}:\")\n",
    "    investment_name = input(\"Investment Name: \")\n",
    "    investment_margin = float(input(\"Profit Margin (as a percentage): \"))\n",
    "    \n",
    "    # Check if the profit margin meets or exceeds the minimum acceptable margin\n",
    "    if investment_margin >= profit_margin:\n",
    "        profitable_opportunities.append(investment_name)\n",
    "\n",
    "# Print profitable investment opportunities\n",
    "if profitable_opportunities:\n",
    "    print(\"\\nProfitable investment opportunities (with a profit margin of \"\n",
    "          f\"{profit_margin}% or higher):\")\n",
    "    for idx, opportunity in enumerate(profitable_opportunities, start=1):\n",
    "        print(f\"{idx}. {opportunity}\")\n",
    "else:\n",
    "    print(\"\\nNo profitable investment opportunities found.\")"
   ]
  },
  {
   "cell_type": "code",
   "execution_count": null,
   "id": "8aa2f791-2cf6-4d66-a4c6-1dcc3ff8a466",
   "metadata": {},
   "outputs": [],
   "source": []
  }
 ],
 "metadata": {
  "kernelspec": {
   "display_name": "Python 3 (ipykernel)",
   "language": "python",
   "name": "python3"
  },
  "language_info": {
   "codemirror_mode": {
    "name": "ipython",
    "version": 3
   },
   "file_extension": ".py",
   "mimetype": "text/x-python",
   "name": "python",
   "nbconvert_exporter": "python",
   "pygments_lexer": "ipython3",
   "version": "3.10.12"
  }
 },
 "nbformat": 4,
 "nbformat_minor": 5
}
